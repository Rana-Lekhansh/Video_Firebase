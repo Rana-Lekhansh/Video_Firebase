{
 "cells": [
  {
   "cell_type": "code",
   "execution_count": 3,
   "id": "3e8d7e22",
   "metadata": {},
   "outputs": [],
   "source": [
    "import cv2\n",
    "import firebase_admin\n",
    "from firebase_admin import credentials, firestore\n",
    "import numpy as np\n",
    "\n",
    "# Initialize Firebase Admin SDK\n",
    "cred = credentials.Certificate(\"adminsdk.json\")\n",
    "firebase_admin.initialize_app(cred, name='TestCam1')\n",
    "#firebase_admin.initialize_app(cred)\n",
    "\n",
    "db = firestore.client()\n",
    "\n",
    "while True:\n",
    "    # Access frame from Firestore\n",
    "    doc_ref = db.collection('frames').document('frame')\n",
    "    doc = doc_ref.get()\n",
    "    frame_bytes = doc.to_dict().get('image', b'')\n",
    "\n",
    "    # Convert frame bytes to image\n",
    "    frame_np = np.frombuffer(frame_bytes, dtype=np.uint8)\n",
    "    frame = cv2.imdecode(frame_np, cv2.IMREAD_COLOR)\n",
    "\n",
    "    cv2.imshow(\"Received Frame\", frame)\n",
    "\n",
    "    if cv2.waitKey(1) & 0xFF == ord('q'):\n",
    "        break\n",
    "\n",
    "cv2.destroyAllWindows()\n"
   ]
  },
  {
   "cell_type": "code",
   "execution_count": null,
   "id": "a98c0c87",
   "metadata": {},
   "outputs": [],
   "source": []
  }
 ],
 "metadata": {
  "kernelspec": {
   "display_name": "Python 3 (ipykernel)",
   "language": "python",
   "name": "python3"
  },
  "language_info": {
   "codemirror_mode": {
    "name": "ipython",
    "version": 3
   },
   "file_extension": ".py",
   "mimetype": "text/x-python",
   "name": "python",
   "nbconvert_exporter": "python",
   "pygments_lexer": "ipython3",
   "version": "3.11.5"
  }
 },
 "nbformat": 4,
 "nbformat_minor": 5
}
